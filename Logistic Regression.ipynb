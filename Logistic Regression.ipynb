{
 "cells": [
  {
   "cell_type": "code",
   "execution_count": 354,
   "metadata": {},
   "outputs": [],
   "source": [
    "import numpy as np\n",
    "import pandas as pd\n",
    "import matplotlib.pyplot as plt"
   ]
  },
  {
   "cell_type": "code",
   "execution_count": 290,
   "metadata": {},
   "outputs": [
    {
     "data": {
      "text/html": [
       "<div>\n",
       "<style scoped>\n",
       "    .dataframe tbody tr th:only-of-type {\n",
       "        vertical-align: middle;\n",
       "    }\n",
       "\n",
       "    .dataframe tbody tr th {\n",
       "        vertical-align: top;\n",
       "    }\n",
       "\n",
       "    .dataframe thead th {\n",
       "        text-align: right;\n",
       "    }\n",
       "</style>\n",
       "<table border=\"1\" class=\"dataframe\">\n",
       "  <thead>\n",
       "    <tr style=\"text-align: right;\">\n",
       "      <th></th>\n",
       "      <th>0</th>\n",
       "      <th>1</th>\n",
       "      <th>2</th>\n",
       "    </tr>\n",
       "  </thead>\n",
       "  <tbody>\n",
       "    <tr>\n",
       "      <th>0</th>\n",
       "      <td>34.623660</td>\n",
       "      <td>78.024693</td>\n",
       "      <td>0</td>\n",
       "    </tr>\n",
       "    <tr>\n",
       "      <th>1</th>\n",
       "      <td>30.286711</td>\n",
       "      <td>43.894998</td>\n",
       "      <td>0</td>\n",
       "    </tr>\n",
       "    <tr>\n",
       "      <th>2</th>\n",
       "      <td>35.847409</td>\n",
       "      <td>72.902198</td>\n",
       "      <td>0</td>\n",
       "    </tr>\n",
       "    <tr>\n",
       "      <th>3</th>\n",
       "      <td>60.182599</td>\n",
       "      <td>86.308552</td>\n",
       "      <td>1</td>\n",
       "    </tr>\n",
       "    <tr>\n",
       "      <th>4</th>\n",
       "      <td>79.032736</td>\n",
       "      <td>75.344376</td>\n",
       "      <td>1</td>\n",
       "    </tr>\n",
       "  </tbody>\n",
       "</table>\n",
       "</div>"
      ],
      "text/plain": [
       "           0          1  2\n",
       "0  34.623660  78.024693  0\n",
       "1  30.286711  43.894998  0\n",
       "2  35.847409  72.902198  0\n",
       "3  60.182599  86.308552  1\n",
       "4  79.032736  75.344376  1"
      ]
     },
     "execution_count": 290,
     "metadata": {},
     "output_type": "execute_result"
    }
   ],
   "source": [
    "data = pd.read_csv('ex2data1.txt', header = None)\n",
    "X = data.iloc[:,:-1]\n",
    "y = data.iloc[:,2]\n",
    "data.head()"
   ]
  },
  {
   "cell_type": "code",
   "execution_count": 291,
   "metadata": {},
   "outputs": [],
   "source": [
    "X = np.array(data.iloc[:,:-1])\n",
    "y = np.array(data.iloc[:,2]).reshape((100,1))"
   ]
  },
  {
   "cell_type": "code",
   "execution_count": 380,
   "metadata": {},
   "outputs": [],
   "source": [
    "class LogisticRegression():\n",
    "    \n",
    "    def __init__(self):\n",
    "        self.mean = 0\n",
    "        self.sigma = 0\n",
    "        self.theta = 0\n",
    "        pass\n",
    "    \n",
    "    def normalize(self, X):\n",
    "        #Normalise features, return normalised, saves mean and std\n",
    "        m = np.shape(X)[0]\n",
    "        self.mean = np.mean(X, axis = 0)\n",
    "        self.sigma = np.std(X, axis = 0)\n",
    "        normalised = (X - self.mean) / self.sigma\n",
    "        return normalised \n",
    "    \n",
    "    def addIntercept(self, X):\n",
    "        m = X.shape[0]\n",
    "        ones = np.ones((m,1))\n",
    "        X = np.hstack((ones, X))\n",
    "        return X \n",
    "\n",
    "    def sigmoid(self, X):\n",
    "        return 1/(1 + (np.exp(-X)))\n",
    "\n",
    "    def cost(self, X, y, theta):\n",
    "        #X = addIntercept(X)\n",
    "        preds = self.sigmoid(np.dot(X, theta))\n",
    "        cost = -np.mean(y * np.log(preds) + (1-y) * np.log(1-preds))\n",
    "        return cost \n",
    "\n",
    "    def gradient(self, theta, X, y):\n",
    "        m = np.shape(X)[0]\n",
    "        grad = ((1/m) * X.T @ (sigmoid(X @ theta) - y))\n",
    "        return grad\n",
    "\n",
    "    def gradient_descent(self, X, y, iters = 1000, alpha = 0.01):\n",
    "        X = self.normalize(X)\n",
    "        X = self.addIntercept(X)\n",
    "        self.theta = np.zeros([X.shape[1], 1])\n",
    "        for each in range(iters):\n",
    "            self.theta = self.theta - alpha * self.gradient(self.theta, X, y)\n",
    "            print(cost(X, y, self.theta))\n",
    "        return self.theta\n",
    "\n",
    "    def predict(self, X):\n",
    "        X = (X - self.mean) / self.sigma \n",
    "        X = self.addIntercept(X)\n",
    "        preds = sigmoid(np.dot(X, self.theta))\n",
    "        preds = np.where(preds > 0.5, 1, 0)\n",
    "        return preds \n",
    "    \n",
    "    def accuracy(self, X, y, cutoff = 0.5):\n",
    "        pred = [self.predict(X) >= cutoff]\n",
    "        acc = np.mean(pred == y)\n",
    "        print(acc * 100)\n",
    "        "
   ]
  },
  {
   "cell_type": "code",
   "execution_count": 377,
   "metadata": {},
   "outputs": [],
   "source": [
    "lr = LogisticRegression()"
   ]
  },
  {
   "cell_type": "code",
   "execution_count": 378,
   "metadata": {},
   "outputs": [],
   "source": [
    "import scipy.optimize as opt\n"
   ]
  }
 ],
 "metadata": {
  "kernelspec": {
   "display_name": "Python 3",
   "language": "python",
   "name": "python3"
  },
  "language_info": {
   "codemirror_mode": {
    "name": "ipython",
    "version": 3
   },
   "file_extension": ".py",
   "mimetype": "text/x-python",
   "name": "python",
   "nbconvert_exporter": "python",
   "pygments_lexer": "ipython3",
   "version": "3.6.5"
  }
 },
 "nbformat": 4,
 "nbformat_minor": 2
}
