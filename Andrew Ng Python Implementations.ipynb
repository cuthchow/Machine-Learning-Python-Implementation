{
 "cells": [
  {
   "cell_type": "code",
   "execution_count": 1,
   "metadata": {},
   "outputs": [],
   "source": [
    "import numpy as np\n",
    "import matplotlib.pyplot as plt\n",
    "import pandas as pd"
   ]
  },
  {
   "cell_type": "code",
   "execution_count": 710,
   "metadata": {},
   "outputs": [],
   "source": [
    "X = np.array([[1300], [1210], [800],[400],[950], [2000], [2300]])\n",
    "y = np.array([[45000], [38000], [30000], [25000], [31000], [48000], [65000]])"
   ]
  },
  {
   "cell_type": "code",
   "execution_count": null,
   "metadata": {},
   "outputs": [],
   "source": [
    "#Use the normal equation to calculate the theta values\n",
    "def linear_regression_normal(X, y): \n",
    "    X = addIntercept(X)\n",
    "    invert = np.linalg.inv(np.dot(X.T, X))\n",
    "    return np.dot(np.dot(invert, X.T), y)"
   ]
  },
  {
   "cell_type": "code",
   "execution_count": null,
   "metadata": {},
   "outputs": [],
   "source": [
    "#Use gradient descent to calculate the theta values \n",
    "def linear_regression_gradient(X, y, alpha = 0.01, reps = 100):\n",
    "    X = addIntercept(X)\n",
    "    theta = np.zeros([X.shape[1], 1])\n",
    "    m = np.shape(X)[0]\n",
    "    for each in range(reps):\n",
    "        temp = np.dot(X, theta) - y\n",
    "        temp = np.dot(X.T, temp)\n",
    "        theta = theta - (alpha/m) * temp\n",
    "        cost = np.sum((np.dot(X, theta) - y) ** 2) / (2*m)\n",
    "    return theta"
   ]
  },
  {
   "cell_type": "code",
   "execution_count": 621,
   "metadata": {},
   "outputs": [],
   "source": [
    "#Compute the cost given theta values\n",
    "def compute_cost(X, y, theta):\n",
    "    X = addIntercept(X)\n",
    "    m = X.shape[0]\n",
    "    return np.sum(np.power((np.dot(X, theta) - y), 2)) / (2*m)"
   ]
  },
  {
   "cell_type": "code",
   "execution_count": null,
   "metadata": {},
   "outputs": [],
   "source": [
    "#Normalize X features (before adding intercept)\n",
    "def featureNormalize(X):\n",
    "    mu = np.mean(X, axis = 0)\n",
    "    sigma = np.std(X, axis = 0)\n",
    "    X = (X - mu) / sigma\n",
    "    return X "
   ]
  },
  {
   "cell_type": "code",
   "execution_count": null,
   "metadata": {},
   "outputs": [],
   "source": [
    "#Add intercept to X values\n",
    "def addIntercept(X):\n",
    "    m = X.shape[0]\n",
    "    ones = np.ones((m,1))\n",
    "    X = np.hstack((ones, X))\n",
    "    return X "
   ]
  },
  {
   "cell_type": "code",
   "execution_count": 754,
   "metadata": {},
   "outputs": [],
   "source": [
    "\n",
    "        "
   ]
  },
  {
   "cell_type": "code",
   "execution_count": 717,
   "metadata": {},
   "outputs": [],
   "source": [
    "data = pd.read_csv('ex1data2.txt', header = None) #read from dataset\n",
    "X = data.iloc[:,0:2] # read first column\n",
    "y = data.iloc[:,2] # read second column\n",
    "m = len(y) # number of training example\n",
    "data.head() # view first few rows of the data"
   ]
  },
  {
   "cell_type": "code",
   "execution_count": null,
   "metadata": {},
   "outputs": [],
   "source": [
    "y = y[:,np.newaxis]\n",
    "theta = np.zeros([2,1])\n",
    "iterations = 1500\n",
    "alpha = 0.01\n",
    "ones = np.ones((m,1))"
   ]
  },
  {
   "cell_type": "code",
   "execution_count": 459,
   "metadata": {},
   "outputs": [],
   "source": []
  }
 ],
 "metadata": {
  "kernelspec": {
   "display_name": "Python 3",
   "language": "python",
   "name": "python3"
  },
  "language_info": {
   "codemirror_mode": {
    "name": "ipython",
    "version": 3
   },
   "file_extension": ".py",
   "mimetype": "text/x-python",
   "name": "python",
   "nbconvert_exporter": "python",
   "pygments_lexer": "ipython3",
   "version": "3.6.5"
  }
 },
 "nbformat": 4,
 "nbformat_minor": 2
}
